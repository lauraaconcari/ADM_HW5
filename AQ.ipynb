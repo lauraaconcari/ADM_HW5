{
  "nbformat": 4,
  "nbformat_minor": 0,
  "metadata": {
    "colab": {
      "provenance": []
    },
    "kernelspec": {
      "name": "python3",
      "display_name": "Python 3"
    },
    "language_info": {
      "name": "python"
    }
  },
  "cells": [
    {
      "cell_type": "markdown",
      "source": [
        "# 5. Algorithmic Questions (AQ)"
      ],
      "metadata": {
        "id": "OYpxjgE3Bssm"
      }
    },
    {
      "cell_type": "markdown",
      "source": [
        "## Part A"
      ],
      "metadata": {
        "id": "oe0iUBW4BwQt"
      }
    },
    {
      "cell_type": "markdown",
      "source": [
        "### 1. Implement an algorithm to solve the described mentioned problem.\n"
      ],
      "metadata": {
        "id": "3LvywtOqB0IE"
      }
    },
    {
      "cell_type": "code",
      "source": [
        "# Input N, M and S. After this is done it let's you add to the list_skills all the skills required\n",
        "N, M, S = map(int, input().split())\n",
        "list_skills = list(map(str, input().split()))\n",
        "\n",
        "\n",
        "# Initialize athlete_skills_list in which we will save all the id and skills of the atheltes\n",
        "athlete_skills_list = list()\n",
        "\n",
        "\n",
        "# Appends to the athlete_skills_list all the dictionaries computed\n",
        "for i in range(N):\n",
        "  athlete_id = int(input())\n",
        "  skills = {}\n",
        "\n",
        "  # for loop to record skill and level of each athlete\n",
        "  for i in range(S):\n",
        "      skill, level = input().split()\n",
        "      level = int(level)\n",
        "      skills[skill] = level\n",
        "\n",
        "  # Now we record id and skill of each athlete\n",
        "  athlete_skills_list.append({'id': athlete_id, 'skills': skills})\n",
        "\n",
        "\n",
        "def calculate_max_score(required_skills, athlete_skills_list):\n",
        "  # Create a list of tuples (skill, score, athlete_id) for all athletes\n",
        "  all_skills = []\n",
        "  for athlete in athlete_skills_list:\n",
        "    athlete_id = athlete['id']\n",
        "    for skill, score in athlete['skills'].items():\n",
        "      all_skills.append((skill, score, athlete_id))\n",
        "\n",
        "# Now we sort the skills by score in descending order to keep only the highest ones\n",
        "all_skills.sort(key=lambda x: x[1], reverse=True)\n",
        "\n",
        "# Keep track of used athletes\n",
        "used_athletes = set()\n",
        "skill_max_scores = []\n",
        "\n",
        "# Iterate over required skills and find the best available athlete for each\n",
        "for skill in required_skills:\n",
        "  for athlete_skill in all_skills:\n",
        "  if athlete_skill[0] == skill and athlete_skill[2] not in used_athletes:\n",
        "    skill_max_scores.append(athlete_skill[1])\n",
        "    used_athletes.add(athlete_skill[2])\n",
        "    break\n",
        "  else:\n",
        "    # If no athlete has the required skill we don't add anything\n",
        "    skill_max_scores.append(0)\n",
        "\n",
        "return sum(skill_max_scores)\n",
        "\n",
        "\n",
        "print(calculate_max_score(list_skills, athlete_skills_list))\n"
      ],
      "metadata": {
        "colab": {
          "base_uri": "https://localhost:8080/"
        },
        "id": "I-CLcfIc0nre",
        "outputId": "68a01e92-1a77-4fe0-8e88-886a6dcd84fa"
      },
      "execution_count": null,
      "outputs": [
        {
          "output_type": "stream",
          "name": "stdout",
          "text": [
            "14 10 1\n",
            "SWM VOL ATH VOL VOL BSK HCK BSK SWM BSK\n",
            "1\n",
            "BSK 98\n",
            "2\n",
            "ATH 14\n",
            "3\n",
            "HCK 82\n",
            "4\n",
            "HCK 9\n",
            "5\n",
            "FTB 90\n",
            "6\n",
            "ATH 52\n",
            "7\n",
            "HCK 95\n",
            "8\n",
            "TEN 85\n",
            "9\n",
            "RGB 46\n",
            "10\n",
            "SWM 16\n",
            "11\n",
            "VOL 32\n",
            "12\n",
            "SOC 41\n",
            "13\n",
            "SWM 59\n",
            "14\n",
            "SWM 34\n",
            "370\n"
          ]
        }
      ]
    },
    {
      "cell_type": "markdown",
      "source": [
        "### 2. What is the time complexity (the Big O notation) of your solution? Please provide a detailed explanation of how you calculated the time complexity."
      ],
      "metadata": {
        "id": "kmX591qGBozM"
      }
    },
    {
      "cell_type": "markdown",
      "source": [
        "Splitting and storing. O(S)"
      ],
      "metadata": {
        "id": "84cT8DxVDl22"
      }
    },
    {
      "cell_type": "code",
      "source": [
        "N, M, S = map(int, input().split())\n",
        "list_skills = list(map(str, input().split()))"
      ],
      "metadata": {
        "id": "_r_r68o7Bh58"
      },
      "execution_count": null,
      "outputs": []
    },
    {
      "cell_type": "markdown",
      "source": [
        "The outer loop runs N times. While the inner loop runs S times. So it's O(N * S)"
      ],
      "metadata": {
        "id": "VbJuB2APDqOT"
      }
    },
    {
      "cell_type": "code",
      "source": [
        "for i in range(N):\n",
        "  athlete_id = int(input())\n",
        "  skills = {}\n",
        "\n",
        "  for i in range(S):\n",
        "      skill, level = input().split()\n",
        "      level = int(level)\n",
        "      skills[skill] = level\n",
        "\n",
        "  athlete_skills_list.append({'id': athlete_id, 'skills': skills})\n"
      ],
      "metadata": {
        "id": "-wm4FgqtDpqT"
      },
      "execution_count": null,
      "outputs": []
    },
    {
      "cell_type": "markdown",
      "source": [
        "O(N * log N)"
      ],
      "metadata": {
        "id": "4KLUcz9ZEACc"
      }
    },
    {
      "cell_type": "code",
      "source": [
        "all_skills.sort(key=lambda x: x[1], reverse=True)"
      ],
      "metadata": {
        "id": "uuw3hvVdEATN"
      },
      "execution_count": null,
      "outputs": []
    },
    {
      "cell_type": "markdown",
      "source": [
        "Building all_skills list involves iterating N times (number of athletes) and inside of this it iterates for number of skills for each athlete (S). Our Big O is O(N * S).\n",
        "\n",
        "Because the function is called in a for loop and amount of times equal to the lenght of required_skills (We will call this number R) the time complexity becomes O(R * N * S)"
      ],
      "metadata": {
        "id": "L1vQyGhBEfD4"
      }
    },
    {
      "cell_type": "code",
      "source": [
        "def calculate_max_score(required_skills, athlete_skills_list):\n",
        "  # Create a list of tuples (skill, score, athlete_id) for all athletes\n",
        "  all_skills = []\n",
        "  for athlete in athlete_skills_list:\n",
        "    athlete_id = athlete['id']\n",
        "    for skill, score in athlete['skills'].items():\n",
        "      all_skills.append((skill, score, athlete_id))\n",
        "\n",
        "# Iterate over required skills and find the best available athlete for each\n",
        "for skill in required_skills:\n",
        "  for athlete_skill in all_skills:\n",
        "  if athlete_skill[0] == skill and athlete_skill[2] not in used_athletes:\n",
        "    skill_max_scores.append(athlete_skill[1])\n",
        "    used_athletes.add(athlete_skill[2])\n",
        "    break\n",
        "  else:\n",
        "    # If no athlete has the required skill we don't add anything\n",
        "    skill_max_scores.append(0)\n",
        "\n",
        "return sum(skill_max_scores)"
      ],
      "metadata": {
        "id": "H4k6C888EfY_"
      },
      "execution_count": null,
      "outputs": []
    },
    {
      "cell_type": "markdown",
      "source": [
        "O(R * N * S) is the dominant term"
      ],
      "metadata": {
        "id": "HH0_-Up4HGSd"
      }
    },
    {
      "cell_type": "markdown",
      "source": [
        "### 3. Ask ChatGPT or any other LLM chatbot tool to check your code's time complexity (the Big O notation). Compare your answer to theirs. If the two differ, which one is right? (why?)"
      ],
      "metadata": {
        "id": "IeVOh8WbHLVH"
      }
    },
    {
      "cell_type": "markdown",
      "source": [
        "ChatGPT Answer:\n",
        "\n",
        "To determine the overall time complexity of the entire code including the calculate_max_score function, we need to analyze each part separately and then combine them:\n",
        "\n",
        "1. Input Processing and List Creation:\n",
        "N, M, S = map(int, input().split()): Constant time, O(1).\n",
        "list_skills = list(map(str, input().split())): Linear time in terms of the number of skills, O(S).\n",
        "2. Building athlete_skills_list:\n",
        "For each of the N athletes, you iterate over S skills.\n",
        "Time complexity for this part: O(N * S).\n",
        "3. calculate_max_score Function:\n",
        "Creating all_skills list: Nested loop with N athletes and an average of S skills per athlete, resulting in O(N * S).\n",
        "Sorting all_skills: Sorting N * S elements with Timsort algorithm, resulting in O(N * S * log(N * S)).\n",
        "Iterating over required skills: In the worst case, you iterate over R required skills and potentially all N * S athlete skills.\n",
        "Time complexity for iterating: O(R * N * S).\n",
        "4. Summing skill_max_scores:\n",
        "The sum operation at the end is linear with respect to the number of required skills, O(R).\n",
        "Overall Time Complexity:\n",
        "Combining all the parts, the overall time complexity is the sum of these complexities:\n",
        "\n",
        "O(1) + O(S) + O(N * S) + O(N * S * log(N * S)) + O(R * N * S) + O(R)\n",
        "The dominant term here is O(N * S * log(N * S)) from the sorting operation. Even though iterating over the required skills and athlete skills contributes O(R * N * S), the logarithmic factor in the sorting complexity makes it the dominant term.\n",
        "\n",
        "**My note:** For me in this example this is untrue because S will not become of such a magnitude such that log(N * S) is larger than R.\n"
      ],
      "metadata": {
        "id": "he2URczCHTlM"
      }
    },
    {
      "cell_type": "markdown",
      "source": [
        "### 4. If you algorithm has exponential time complexity, can you provide a polynomial-time version?\n",
        "\n"
      ],
      "metadata": {
        "id": "ET1adeE-H3XM"
      }
    },
    {
      "cell_type": "markdown",
      "source": [
        "No exponential time complexity in my solution. O(R * N * S) is a polynomial-time version."
      ],
      "metadata": {
        "id": "U-ocRONvS-6b"
      }
    },
    {
      "cell_type": "markdown",
      "source": [
        "### If S=1, how does the time complexity of an optimal algorithm to solve this problem change?"
      ],
      "metadata": {
        "id": "8xNtyMIjTEem"
      }
    },
    {
      "cell_type": "markdown",
      "source": [
        "If we know that S=1, the complexity of an optimal algorithm for this problem becomes dominated by the sorting step, leading to a time complexity of O(R * N) (O(N log N) according to ChatGPT). This is a significant improvement over the more complex scenarios where S > 1 which significantly impacts the time complexity."
      ],
      "metadata": {
        "id": "2YJRZ94YTSqj"
      }
    },
    {
      "cell_type": "markdown",
      "source": [
        "## Part B"
      ],
      "metadata": {
        "id": "srzcpcWETjm9"
      }
    },
    {
      "cell_type": "markdown",
      "source": [
        "### 1. Prove or disprove that the problem is NP-complete.\n"
      ],
      "metadata": {
        "id": "u2hgu_TuxrDe"
      }
    },
    {
      "cell_type": "markdown",
      "source": [
        "This problem has two components:\n",
        "\n",
        "*   Covering all skills in the set T\n",
        "*   Minimizing the sum of edge weights to work well together\n",
        "\n",
        "To show it is NP-complete we need to show that:\n",
        "-  The problem is in NP --> Solution to be verified in polynomial time:\n",
        "\n",
        "  For each skill in T we need to check if there is at least one member in V' who has that skill. This is done by iterating over the set T and X and this can be done in O(T * V').\n",
        "\n",
        "  Secondly, we can use a minimum spanning tree to check if V' is minimized. To do this, we first check if the tree connects all vertices in V' without any cycle. Then, check if the total weight of the tree is less than or equal of any other form of G[V']. This can be done using Kruskal algorithm which as a time-complexity of O(V' log V).\n",
        "\n",
        "  Both of these steps are in polynomial-time form so we can assert that the problem is NP.\n",
        "\n",
        "-  The problem is NP-Hard: We can show this by taking a known NP-complete problem and transforming it into our problem in such a way that if we can solve our problem, we can also solve the original NP-complete problem. (https://ics.uci.edu/~eppstein/161/960312.html). One of these examples of NP-complete problems is the Set Cover Problem (https://math.mit.edu/~goemans/18434S06/setcover-tamara.pdf), where we have U elements and we need to find the smallest subset of S such taht every element in U is included. In our case, we have a set of skills T, same as to the universe U in the Set Cover problem, and a group of individuals X, each with a subset of these skills, similar to each set in S in the Set Cover problem. Our goal is to find the subset of these individuals such that all skills in T are covered. To show that our problem is NP-hard, we can map each element in the universe U of the Set Cover problem to a skill in T, and each set in S to an individual in X. We therefore assign a weight to the edges between individuals to represent the effort to work together, simplifying the reduction to focus on skill coverage. If we can find a subset of individuals X′ that covers all skills with the minimized sum of edge weights, we effectively solve the Set Cover, demonstrating that out problem is at least as hard as the Set Cover problem, confirming that our problem is NP-hard.\n",
        "\n",
        "Combined with the fact that a solution can be verified in polynomial time, this establishes the NP-completeness of the problem.\n"
      ],
      "metadata": {
        "id": "xOgdmIdb2C8p"
      }
    },
    {
      "cell_type": "markdown",
      "source": [
        "### 2. Write a heuristic in order to approximate the best solution for this problem.\n"
      ],
      "metadata": {
        "id": "aqtdPTsQzMcy"
      }
    },
    {
      "cell_type": "markdown",
      "source": [
        "- Initialize a subset of V: V'\n",
        "\n",
        "- For each skill in T, find the vertex v that possesses the skill and that had the least sum of edge weight to the vertices already in V'. If there are doubles prioritize the one that adds the least weight.\n",
        "\n",
        "- Construct G=[V', E']\n",
        "\n",
        "- Once all skills in T are covered by V'we can use the Kruskal algorithm which I previously mentioned to finds subsert of edges that connect vertices in V with the minimal amount of weight.\n"
      ],
      "metadata": {
        "id": "XYCjeqIaCc0A"
      }
    },
    {
      "cell_type": "markdown",
      "source": [
        "### 3. What is the time complexity of your solution?"
      ],
      "metadata": {
        "id": "tIW7HjFMzPAm"
      }
    },
    {
      "cell_type": "markdown",
      "source": [
        "The first step has time-complexity O(T * V) while the second step has O(V' log V). Becuase in our case study T is often larger than log V. The dominant term is O(T * V)"
      ],
      "metadata": {
        "id": "h7hS-TWXCl_Y"
      }
    }
  ]
}